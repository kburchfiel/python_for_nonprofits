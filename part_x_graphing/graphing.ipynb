{
 "cells": [
  {
   "cell_type": "markdown",
   "id": "1b304f9e-12cc-4546-aa80-67d3443cd6cf",
   "metadata": {},
   "source": [
    "# Creating Interactive and Static Charts with Plotly [Work in progress]\n",
    "\n",
    "By Kenneth Burchfiel\n",
    "\n",
    "Released under the MIT License\n",
    "\n",
    "In this section, we'll learn how to use the Plotly library to create bar, line, and scatter plots. We'll then save these charts to both interactive HTML files and static .png files."
   ]
  },
  {
   "cell_type": "code",
   "execution_count": null,
   "id": "772effc6-a7c0-46fb-8afa-b4ea7640e7bb",
   "metadata": {
    "execution": {
     "iopub.execute_input": "2024-05-19T03:37:47.111818Z",
     "iopub.status.busy": "2024-05-19T03:37:47.110814Z",
     "iopub.status.idle": "2024-05-19T03:37:47.718709Z",
     "shell.execute_reply": "2024-05-19T03:37:47.718709Z",
     "shell.execute_reply.started": "2024-05-19T03:37:47.110814Z"
    }
   },
   "outputs": [],
   "source": [
    "import pandas as pd\n",
    "import numpy as np\n",
    "import plotly.express as px"
   ]
  },
  {
   "cell_type": "markdown",
   "id": "cac05907-93d3-405b-b3c0-2299dd677feb",
   "metadata": {
    "execution": {
     "iopub.execute_input": "2024-05-08T02:39:04.077069Z",
     "iopub.status.busy": "2024-05-08T02:39:04.077069Z",
     "iopub.status.idle": "2024-05-08T02:39:04.079832Z",
     "shell.execute_reply": "2024-05-08T02:39:04.079832Z",
     "shell.execute_reply.started": "2024-05-08T02:39:04.077069Z"
    }
   },
   "source": [
    "## Reading in data\n",
    "\n",
    "We'll start by reading in data from the pivot table that we created within the Spreadsheet Operations section of Python for Nonprofits. This table contains both enrollment and test result data at the school/grade level."
   ]
  },
  {
   "cell_type": "code",
   "execution_count": null,
   "id": "9630af73-93f1-4c2d-afdb-c1c6e2d4d29d",
   "metadata": {
    "execution": {
     "iopub.execute_input": "2024-05-19T03:37:47.720715Z",
     "iopub.status.busy": "2024-05-19T03:37:47.720715Z",
     "iopub.status.idle": "2024-05-19T03:37:47.738772Z",
     "shell.execute_reply": "2024-05-19T03:37:47.738772Z",
     "shell.execute_reply.started": "2024-05-19T03:37:47.720715Z"
    }
   },
   "outputs": [],
   "source": [
    "df_school_grade_pivot = pd.read_csv(\n",
    "    '../data/test_results_by_school_and_grade.csv').sort_values(\n",
    "    ['School', 'Grade_for_Sorting']).reset_index(drop=True) # Sorting \n",
    "# the data by school and grade will make it easier to display these values in alphabetical \n",
    "# order within some of our charts.\n",
    "df_school_grade_pivot.head(5)"
   ]
  },
  {
   "cell_type": "markdown",
   "id": "bcb51497-11eb-47bb-a1ca-a72ab0d53e1c",
   "metadata": {},
   "source": [
    "## Creating Bar Graphs\n",
    "\n",
    "df_school_grade_pivot shows enrollment data by both school and grade. In order to determine our schoolwide enrollment counts, we can use Plotly Express's [histogram()](https://plotly.com/python/histograms/) function to sum up all enrollment totals at each school. \n",
    "\n",
    "In the following line of code, the first argument (df_school_grade_pivot) is our data source, and the 'x' and 'y' arguments are both columns within that DataFrame."
   ]
  },
  {
   "cell_type": "code",
   "execution_count": null,
   "id": "d7e0d0bf-2f32-4021-8683-8d411fd6c73c",
   "metadata": {
    "execution": {
     "iopub.execute_input": "2024-05-19T03:37:47.739776Z",
     "iopub.status.busy": "2024-05-19T03:37:47.739776Z",
     "iopub.status.idle": "2024-05-19T03:37:48.615706Z",
     "shell.execute_reply": "2024-05-19T03:37:48.615706Z",
     "shell.execute_reply.started": "2024-05-19T03:37:47.739776Z"
    }
   },
   "outputs": [],
   "source": [
    "px.histogram(df_school_grade_pivot, x = 'School', y = 'Students')\n",
    "# The following line, which passes just two arguments \n",
    "# (one Pandas Series for 'x' and another for 'y'), \n",
    "# would produce an equivalent chart:\n",
    "# px.histogram(x = df_school_grade_pivot['School'], y = df_school_grade_pivot['Students'])"
   ]
  },
  {
   "cell_type": "markdown",
   "id": "5806f319-7a71-462b-9b96-e85c7591becf",
   "metadata": {},
   "source": [
    "Note that this chart is interactive by default: hovering over any bar will show you the exact number of students enrolled at its corresponding school. You can also access various tools when hovering over the top right of the output.\n",
    "\n",
    "Why did we call Plotly's histogram() function rather than bar()? As the Plotly documentation notes, \"with px.bar, each row of the DataFrame is represented as a rectangular mark.\" As a result, since each school has 12 grades, we'd then end up with 12 rectangles per bar, as shown below:"
   ]
  },
  {
   "cell_type": "code",
   "execution_count": null,
   "id": "66046e09-12c6-4e51-99bd-2f3176f05691",
   "metadata": {
    "execution": {
     "iopub.execute_input": "2024-05-19T03:37:48.616712Z",
     "iopub.status.busy": "2024-05-19T03:37:48.616712Z",
     "iopub.status.idle": "2024-05-19T03:37:48.665302Z",
     "shell.execute_reply": "2024-05-19T03:37:48.665302Z",
     "shell.execute_reply.started": "2024-05-19T03:37:48.616712Z"
    }
   },
   "outputs": [],
   "source": [
    "px.bar(df_school_grade_pivot, \n",
    "       x = 'School', y = 'Students') # note that each grade is represented by\n",
    "# its own bar."
   ]
  },
  {
   "cell_type": "markdown",
   "id": "c2ede601-bfb4-47dc-82b8-1c538e5977fd",
   "metadata": {},
   "source": [
    "We'll now improve the output of this chart by adding in a title; assigning different colors to each school; changing the y axis title; and adding labels to our data. These additions were based on code samples within [this Plotly documentation page](https://plotly.com/python/figure-labels/)."
   ]
  },
  {
   "cell_type": "code",
   "execution_count": null,
   "id": "61eb084b-deaa-4524-9320-b3310425e846",
   "metadata": {
    "execution": {
     "iopub.execute_input": "2024-05-19T03:37:48.666310Z",
     "iopub.status.busy": "2024-05-19T03:37:48.666310Z",
     "iopub.status.idle": "2024-05-19T03:37:48.714815Z",
     "shell.execute_reply": "2024-05-19T03:37:48.714815Z",
     "shell.execute_reply.started": "2024-05-19T03:37:48.666310Z"
    }
   },
   "outputs": [],
   "source": [
    "fig_school_enrollment = px.histogram(\n",
    "    df_school_grade_pivot, x = 'School', y = 'Students', \n",
    "    title = 'Enrollment by School', text_auto = True,\n",
    "    color = 'School')\n",
    "\n",
    "fig_school_enrollment.update_layout(yaxis_title = 'Students')\n",
    "# As you might have guessed, x axis titles can be modified by setting\n",
    "# xaxis_title to your desired title.\n",
    "\n",
    "fig_school_enrollment"
   ]
  },
  {
   "cell_type": "markdown",
   "id": "3093b9af-64e9-4109-a06f-a676ec364d16",
   "metadata": {},
   "source": [
    "We can save both an interactive HTML version of this chart along with a static PNG one. Charts as simple as this one don't really benefit from interactivity (as each bar's data label already shows its corresponding tooltip information), but the HTML version can still appear sharper on high-resolution monitors."
   ]
  },
  {
   "cell_type": "code",
   "execution_count": null,
   "id": "acc9d2af-f21b-453b-9b69-8097369625b9",
   "metadata": {
    "execution": {
     "iopub.execute_input": "2024-05-19T03:37:48.715828Z",
     "iopub.status.busy": "2024-05-19T03:37:48.714815Z",
     "iopub.status.idle": "2024-05-19T03:37:49.766677Z",
     "shell.execute_reply": "2024-05-19T03:37:49.766677Z",
     "shell.execute_reply.started": "2024-05-19T03:37:48.715828Z"
    }
   },
   "outputs": [],
   "source": [
    "fig_school_enrollment.write_html('Graphs/enrollment_by_school.html') \n",
    "# I could have named this file 'school_enrollment' instead, but\n",
    "# leading with 'enrollment' will allow all enrollment charts to get\n",
    "# grouped together, thus making them easier to locate within\n",
    "# our 'Graphs' folder.\n",
    "\n",
    "# When calling write_image() to save static copies of charts, I recommend \n",
    "# setting scale to a higher number (e.g. 4) in order to arrive\n",
    "# at a higher-quality image. Setting the width and height, though optional,\n",
    "# allows you more contral over the final shape of your chart. In this case,\n",
    "# I set the width and height values so that the final result would be 3840 by\n",
    "# 2160 pixels (equivalent to a UHD/4K video). This 16:9 aspect ratio\n",
    "# is the same one found on many monitors and TVs, thus making full screen\n",
    "# charts easier to display.)\n",
    "fig_school_enrollment.write_image('Graphs/enrollment_by_school.png', \n",
    "                                     scale = 4, width = '960', height = '540') \n"
   ]
  },
  {
   "cell_type": "markdown",
   "id": "aae43931-a69f-4e34-b85d-b1bb966ca36b",
   "metadata": {},
   "source": [
    "Instead of calling these two lines of code each time we need to save a chart, I'll instead create a save_chart() function that can perform these same two operations. This function can help guard against errors when saving files, as it would be easy to forget to change the DataFrame or filename values for both write_html() and write_image() if we kept calling those two items separately."
   ]
  },
  {
   "cell_type": "code",
   "execution_count": null,
   "id": "f1272701-e0c6-41d6-8ca6-896eda8496ff",
   "metadata": {
    "execution": {
     "iopub.execute_input": "2024-05-19T03:37:49.767686Z",
     "iopub.status.busy": "2024-05-19T03:37:49.767686Z",
     "iopub.status.idle": "2024-05-19T03:37:49.771067Z",
     "shell.execute_reply": "2024-05-19T03:37:49.771067Z",
     "shell.execute_reply.started": "2024-05-19T03:37:49.767686Z"
    }
   },
   "outputs": [],
   "source": [
    "def save_chart(chart, filename, image_scale = 4,\n",
    "              image_width = 960,\n",
    "              image_height = 540):\n",
    "    '''This function saves charts as both HTML and PNG files.\n",
    "    Chart: the Plotly figure to be saved.\n",
    "    filename: the name of the file. Don't include the HTML or PNG \n",
    "    extensions, as the function will add these in automatically.\n",
    "    image_scale, image_width, image_height: the values to pass\n",
    "    to the scale, width, and height arguments of write_image.'''\n",
    "    chart.write_html(\n",
    "        f'Graphs/{filename}.html')\n",
    "    chart.write_image(\n",
    "        f'Graphs/{filename}.png', \n",
    "        scale = 4, width = '960', height = '540') \n"
   ]
  },
  {
   "cell_type": "markdown",
   "id": "8b20c8f1-d91e-4a96-8765-7339803f6bb2",
   "metadata": {},
   "source": [
    "### Graphing multiple variables via a bar chart:\n",
    "\n",
    "In order to show enrollment by school and grade, we can call px.bar() to create a bar chart in which schools and student counts are the x and y variables, respectively. This chart will *also* add in student grades as the 'color' argument so that we can see individual enrollment counts at the school/grade level. \n",
    "\n",
    "The 'barmode' parameter lets us specify how we want the individual grade bars to be displayed. 'group', the parameter used below, shows these bars side by side. However, "
   ]
  },
  {
   "cell_type": "code",
   "execution_count": null,
   "id": "6d83ddcc-6f87-49a5-bfa2-b333977bf9c8",
   "metadata": {
    "execution": {
     "iopub.execute_input": "2024-05-19T03:37:49.772072Z",
     "iopub.status.busy": "2024-05-19T03:37:49.772072Z",
     "iopub.status.idle": "2024-05-19T03:37:50.037102Z",
     "shell.execute_reply": "2024-05-19T03:37:50.037102Z",
     "shell.execute_reply.started": "2024-05-19T03:37:49.772072Z"
    }
   },
   "outputs": [],
   "source": [
    "fig_school_grade_enrollment = px.bar(\n",
    "    df_school_grade_pivot, \n",
    "    x = 'School', y = 'Students', color = 'Grade', \n",
    "       barmode = 'group', text_auto = True,\n",
    "        title = 'Enrollment by School and Grade')\n",
    "\n",
    "# Because we called px.bar() rather than px.histogram(),\n",
    "# the y axis title is equal to our y axis value ('Students')\n",
    "# by default. Therefore, unlike with the histogram we created\n",
    "# earlier, there's no need to rename this title.\n",
    "\n",
    "save_chart(fig_school_grade_enrollment, 'enrollment_by_school_and_grade')\n",
    "\n",
    "fig_school_grade_enrollment"
   ]
  },
  {
   "cell_type": "markdown",
   "id": "3babf54f-2d37-4ad3-947c-22abba19f430",
   "metadata": {},
   "source": [
    "Setting 'barmode' to 'relative' stacks each grade bar atop one another:"
   ]
  },
  {
   "cell_type": "code",
   "execution_count": null,
   "id": "64afdbe7-1e8a-4c1f-aa8f-a15b0f9e0aef",
   "metadata": {
    "execution": {
     "iopub.execute_input": "2024-05-19T03:37:50.038106Z",
     "iopub.status.busy": "2024-05-19T03:37:50.038106Z",
     "iopub.status.idle": "2024-05-19T03:37:50.137860Z",
     "shell.execute_reply": "2024-05-19T03:37:50.137860Z",
     "shell.execute_reply.started": "2024-05-19T03:37:50.038106Z"
    }
   },
   "outputs": [],
   "source": [
    "px.bar(df_school_grade_pivot, x = 'School', y = 'Students', color = 'Grade', \n",
    "       barmode = 'relative', text_auto = True)"
   ]
  },
  {
   "cell_type": "markdown",
   "id": "78bac957-5972-4706-af43-0dad82f9feeb",
   "metadata": {},
   "source": [
    "It's also possible to display 3 different comparisons by setting one variable to `pattern_shape`, though, depending on how many different combinations of these comparison variables you have, your chart may start to become difficult to read."
   ]
  },
  {
   "cell_type": "code",
   "execution_count": null,
   "id": "bdfdc2e4-5dd9-41c9-bc2f-95981a6c48c9",
   "metadata": {
    "execution": {
     "iopub.execute_input": "2024-05-19T03:37:50.138867Z",
     "iopub.status.busy": "2024-05-19T03:37:50.138867Z",
     "iopub.status.idle": "2024-05-19T03:37:50.228675Z",
     "shell.execute_reply": "2024-05-19T03:37:50.228675Z",
     "shell.execute_reply.started": "2024-05-19T03:37:50.138867Z"
    }
   },
   "outputs": [],
   "source": [
    "px.bar(df_school_grade_pivot, \n",
    "       x = 'School', y = 'Students', color = 'Grade', \n",
    "       pattern_shape = 'Enrollment_Category',\n",
    "       barmode = 'group', text_auto = True)"
   ]
  },
  {
   "cell_type": "markdown",
   "id": "7e04f058-3043-4a7d-94bd-1bfce0c43a22",
   "metadata": {},
   "source": [
    "Another means of plotting multiple variables is to create a separate column that groups them together, then pass that column to your graphing code. The following chart offers an example of this approach: it uses a new `School and Grade` column as the x axis and `Enrollment_Category` as the color variable. I find this chart to be much more readable than the one created earlier."
   ]
  },
  {
   "cell_type": "code",
   "execution_count": null,
   "id": "596c88f1-e310-4982-8bd2-eda976ee6253",
   "metadata": {
    "execution": {
     "iopub.execute_input": "2024-05-19T03:37:50.230682Z",
     "iopub.status.busy": "2024-05-19T03:37:50.230682Z",
     "iopub.status.idle": "2024-05-19T03:37:50.240717Z",
     "shell.execute_reply": "2024-05-19T03:37:50.240717Z",
     "shell.execute_reply.started": "2024-05-19T03:37:50.230682Z"
    }
   },
   "outputs": [],
   "source": [
    "df_school_grade_pivot['School and Grade'] = (\n",
    "    df_school_grade_pivot['School'] + ' ' + df_school_grade_pivot['Grade'])\n",
    "df_school_grade_pivot.head(5)"
   ]
  },
  {
   "cell_type": "markdown",
   "id": "67b8bf50-eb04-4aa5-8e6d-13357ce239b7",
   "metadata": {},
   "source": [
    "Now that school and grade data are available within a single column, we no longer need to include a `pattern_shape` argument in order to graph school, grade, and enrollment category data."
   ]
  },
  {
   "cell_type": "code",
   "execution_count": null,
   "id": "d6d72074-79cb-4882-9c34-d0afe68e3688",
   "metadata": {
    "execution": {
     "iopub.execute_input": "2024-05-19T03:37:50.241722Z",
     "iopub.status.busy": "2024-05-19T03:37:50.241722Z",
     "iopub.status.idle": "2024-05-19T03:37:50.279349Z",
     "shell.execute_reply": "2024-05-19T03:37:50.279349Z",
     "shell.execute_reply.started": "2024-05-19T03:37:50.241722Z"
    }
   },
   "outputs": [],
   "source": [
    "px.bar(df_school_grade_pivot.sort_values('Students', ascending = False), \n",
    "       x = 'School and Grade', y = 'Students', color = 'Enrollment_Category')"
   ]
  },
  {
   "cell_type": "markdown",
   "id": "b51b788a-d991-4fa3-92e7-ee628cea5620",
   "metadata": {},
   "source": [
    "## Reordering bars\n",
    "\n",
    "You may sometimes need to change the order of the bars in a chart. For instance, you might want the bars to appear in the same order that they show up in the DataFrame on which your chart is based; this often occurs by default, but in some cases, the process of graphing them can cause unwanted changes to their order.* Alternatively, you might wish to use a different DataFrame variable to sort the bars *or* pass in a custom order. This section will show how to accomplish these three modifications.\n",
    "\n",
    "\\* *For example, if you're choosing to color your bars based on a variable, but not all versions of that variable are present for all of your x axis values, the x axis values might get reordered as a result.*"
   ]
  },
  {
   "cell_type": "markdown",
   "id": "4c7b0068-6fa6-49d6-aaf6-1410b75f6700",
   "metadata": {},
   "source": [
    "## Creating a DataFrame that stores enrollment by grade, then sorting it in chronological order (K to 12):\n",
    "\n",
    "We could easily create this sorted DataFrame via the Grade_for_Sorting argument present in the table, but for demonstration purposes, I'll instead show how to accomplish this sort via a custom map, which will get created via the following cell."
   ]
  },
  {
   "cell_type": "code",
   "execution_count": null,
   "id": "9c858887-0bff-44d8-9b6c-726d2060821b",
   "metadata": {
    "execution": {
     "iopub.execute_input": "2024-05-19T03:37:50.280353Z",
     "iopub.status.busy": "2024-05-19T03:37:50.280353Z",
     "iopub.status.idle": "2024-05-19T03:37:50.284362Z",
     "shell.execute_reply": "2024-05-19T03:37:50.284362Z",
     "shell.execute_reply.started": "2024-05-19T03:37:50.280353Z"
    }
   },
   "outputs": [],
   "source": [
    "# This cell creates a map of grades (in string format) to desired sort orders \n",
    "# via a dictionary comprehension. This code assigns the integer version of\n",
    "# each grade as its sort order except for grade K, which will get assigned\n",
    "# a grade of 0.\n",
    "\n",
    "# (Once again, the Grade_for_Sorting column could have proven useful here, \n",
    "# but I wanted to demonstrate how to create a map without incorporating\n",
    "# that field.)\n",
    "\n",
    "grade_sorting_map = {\n",
    "    grade:0 if grade == 'K' else int(grade) \n",
    "    for grade in df_school_grade_pivot['Grade'].unique()}\n",
    "grade_sorting_map"
   ]
  },
  {
   "cell_type": "markdown",
   "id": "5631d991-6464-4706-bdad-0f378d0578b0",
   "metadata": {
    "execution": {
     "iopub.execute_input": "2024-05-19T03:08:36.753143Z",
     "iopub.status.busy": "2024-05-19T03:08:36.753143Z",
     "iopub.status.idle": "2024-05-19T03:08:36.757168Z",
     "shell.execute_reply": "2024-05-19T03:08:36.757168Z",
     "shell.execute_reply.started": "2024-05-19T03:08:36.753143Z"
    }
   },
   "source": [
    "Creating an initial version of our enrollment by grade table:"
   ]
  },
  {
   "cell_type": "code",
   "execution_count": null,
   "id": "317f842d-3e6e-4d77-a90a-58dcb0446f0d",
   "metadata": {
    "execution": {
     "iopub.execute_input": "2024-05-19T03:37:50.285366Z",
     "iopub.status.busy": "2024-05-19T03:37:50.284362Z",
     "iopub.status.idle": "2024-05-19T03:37:50.294229Z",
     "shell.execute_reply": "2024-05-19T03:37:50.294229Z",
     "shell.execute_reply.started": "2024-05-19T03:37:50.285366Z"
    }
   },
   "outputs": [],
   "source": [
    "df_enrollment_by_grade = df_school_grade_pivot.pivot_table(\n",
    "    index = 'Grade', values = 'Students', aggfunc = 'sum').reset_index()\n",
    "df_enrollment_by_grade"
   ]
  },
  {
   "cell_type": "markdown",
   "id": "3cf40b6f-e1a7-4a3a-a6d1-b1b2656ca4e9",
   "metadata": {},
   "source": [
    "The grades are currently sorted in *alphabetical* order. In order to sort them *chronologically*, we can call sort_values() and pass in our custom sorting key:"
   ]
  },
  {
   "cell_type": "code",
   "execution_count": null,
   "id": "966bb4d3-831c-4e01-ac49-c08edbb3cb56",
   "metadata": {
    "execution": {
     "iopub.execute_input": "2024-05-19T03:37:50.295234Z",
     "iopub.status.busy": "2024-05-19T03:37:50.295234Z",
     "iopub.status.idle": "2024-05-19T03:37:50.301620Z",
     "shell.execute_reply": "2024-05-19T03:37:50.301620Z",
     "shell.execute_reply.started": "2024-05-19T03:37:50.295234Z"
    }
   },
   "outputs": [],
   "source": [
    "df_enrollment_by_grade = df_enrollment_by_grade.sort_values(\n",
    "    by = 'Grade', key = lambda x:x.map(\n",
    "        grade_sorting_map)).reset_index(drop=True).copy()\n",
    "# See https://pandas.pydata.org/pandas-docs/stable/reference/api/pandas.DataFrame.sort_values.html\n",
    "# and https://pandas.pydata.org/pandas-docs/stable/reference/api/pandas.Series.map.html\n",
    "# for more information on the use of 'key' and map() in the above code. \n",
    "df_enrollment_by_grade"
   ]
  },
  {
   "cell_type": "markdown",
   "id": "cb4adf13-70c8-49d8-a178-3beeb8e00be4",
   "metadata": {},
   "source": [
    "I'll next create a bar graph of these enrollment totals in which the order of the bars doesn't match the order of the grades found in the source DataFrame. This will allow me to demonstrate how to correctly reorder them."
   ]
  },
  {
   "cell_type": "code",
   "execution_count": null,
   "id": "08042ae5-bc6d-46fb-a40e-c8acae7800d4",
   "metadata": {
    "execution": {
     "iopub.execute_input": "2024-05-19T03:37:50.302624Z",
     "iopub.status.busy": "2024-05-19T03:37:50.302624Z",
     "iopub.status.idle": "2024-05-19T03:37:50.332684Z",
     "shell.execute_reply": "2024-05-19T03:37:50.332684Z",
     "shell.execute_reply.started": "2024-05-19T03:37:50.302624Z"
    }
   },
   "outputs": [],
   "source": [
    "# Sorting the DataFrame by grade reinstates the incorrect alphabetical sort.\n",
    "# This sort was added in *only* so that I could show how to properly reorder\n",
    "# the bars. Without this sort_values() call, the bars would have appeared\n",
    "# in the correct chronological order by default.\n",
    "\n",
    "fig_enrollment_by_grade = px.bar(df_enrollment_by_grade.sort_values(\n",
    "    'Grade'), x = 'Grade', y = 'Students', title = 'Enrollment by Grade')\n",
    "\n",
    "fig_enrollment_by_grade"
   ]
  },
  {
   "cell_type": "markdown",
   "id": "b1509e4d-6386-4ee0-bc8f-e27d40466fb5",
   "metadata": {},
   "source": [
    "The following line instructs Plotly to reorder the bars so that they match the original order of the x values ('Grade') in the chart's original DataFrame."
   ]
  },
  {
   "cell_type": "code",
   "execution_count": null,
   "id": "d01715a8-6367-4be2-913d-0bb69dcedc43",
   "metadata": {
    "execution": {
     "iopub.execute_input": "2024-05-19T03:37:50.333691Z",
     "iopub.status.busy": "2024-05-19T03:37:50.333691Z",
     "iopub.status.idle": "2024-05-19T03:37:50.483217Z",
     "shell.execute_reply": "2024-05-19T03:37:50.483217Z",
     "shell.execute_reply.started": "2024-05-19T03:37:50.333691Z"
    }
   },
   "outputs": [],
   "source": [
    "fig_enrollment_by_grade.update_xaxes(\n",
    "    categoryorder = 'array', categoryarray = df_enrollment_by_grade['Grade'])\n",
    "save_chart(fig_enrollment_by_grade, 'enrollment_by_grade')\n",
    "fig_enrollment_by_grade"
   ]
  },
  {
   "cell_type": "markdown",
   "id": "5af34dc6-acd5-4592-9c4e-2d51e4396f3d",
   "metadata": {},
   "source": [
    "My understanding is that the values in categoryarray must match those shown in the x axis. However, you can still use update_xaxes to sort your DataFrame by a *different* DataFrame field; you'll just need to first sort the DataFrame by that field, then pass in the x axis field (which will now have your desired order).\n",
    "\n",
    "For instance, in order to sort our grades by enrollment, we can first sort our DataFrame by the number of students in each grade, then pass the same column ('Grade') as before."
   ]
  },
  {
   "cell_type": "code",
   "execution_count": null,
   "id": "0e3e3765-72a6-4193-bda2-a2eb3a965fe6",
   "metadata": {
    "execution": {
     "iopub.execute_input": "2024-05-19T03:37:50.484222Z",
     "iopub.status.busy": "2024-05-19T03:37:50.484222Z",
     "iopub.status.idle": "2024-05-19T03:37:50.491438Z",
     "shell.execute_reply": "2024-05-19T03:37:50.491438Z",
     "shell.execute_reply.started": "2024-05-19T03:37:50.484222Z"
    }
   },
   "outputs": [],
   "source": [
    "fig_enrollment_by_grade.update_xaxes(\n",
    "    categoryorder = 'array', \n",
    "    categoryarray = df_enrollment_by_grade.sort_values(\n",
    "        'Students', ascending = False)['Grade'])"
   ]
  },
  {
   "cell_type": "markdown",
   "id": "deb247f8-b893-47cd-a161-c862d52ac898",
   "metadata": {},
   "source": [
    "To sort the bars using a custom order, simply pass a custom list or array to the 'categoryarray' argument. Once again, though, this list/array needs to include the same values (in this case, grades) that are found within the bar chart.\n",
    "\n",
    "Our custom list for this example will be an array of grades in *reverse* chronological order (12 to K), which the following cell generates."
   ]
  },
  {
   "cell_type": "code",
   "execution_count": null,
   "id": "a405d6e7-4ead-4a55-bb6c-1aed590a72f5",
   "metadata": {
    "execution": {
     "iopub.execute_input": "2024-05-19T03:37:50.492445Z",
     "iopub.status.busy": "2024-05-19T03:37:50.492445Z",
     "iopub.status.idle": "2024-05-19T03:37:50.496879Z",
     "shell.execute_reply": "2024-05-19T03:37:50.496879Z",
     "shell.execute_reply.started": "2024-05-19T03:37:50.492445Z"
    }
   },
   "outputs": [],
   "source": [
    "reversed_grades = df_school_grade_pivot.sort_values(\n",
    "    'Grade_for_Sorting', ascending = False)['Grade'].unique()\n",
    "reversed_grades"
   ]
  },
  {
   "cell_type": "markdown",
   "id": "da009deb-a807-4c25-af3b-d90c0a13b81e",
   "metadata": {},
   "source": [
    "Reordering the bars in our chart by this custom list:"
   ]
  },
  {
   "cell_type": "code",
   "execution_count": null,
   "id": "8146a0f2-a6c5-4554-91f6-be515ae39036",
   "metadata": {
    "execution": {
     "iopub.execute_input": "2024-05-19T03:37:50.497883Z",
     "iopub.status.busy": "2024-05-19T03:37:50.497883Z",
     "iopub.status.idle": "2024-05-19T03:37:50.504145Z",
     "shell.execute_reply": "2024-05-19T03:37:50.504145Z",
     "shell.execute_reply.started": "2024-05-19T03:37:50.497883Z"
    }
   },
   "outputs": [],
   "source": [
    "fig_enrollment_by_grade.update_xaxes(\n",
    "    categoryorder = 'array', categoryarray = reversed_grades)"
   ]
  },
  {
   "cell_type": "markdown",
   "id": "cb3059ce-6e20-41fb-a243-87db12799f36",
   "metadata": {},
   "source": [
    "# Here with editing\n",
    "\n",
    "Other items to include:\n",
    "\n",
    "* Line charts (you could use fall-to-spring test result data for this)\n",
    "* Scatter plots (potentially including best fit lines)\n",
    "* (Maybe) Tree maps as an alternative to pie charts\n",
    "* Explanation of which Kaleido library to install in order for the code to work on Windows\n",
    "* Custom color coding for bars via dictionaries\n",
    "* Different color scales\n",
    "* Adding in a third level of detail for bar charts via shading\n",
    "* Hosting these charts on a Google Sites page (you could probably just embed them all within the same chart; explain that this approach would be static)\n",
    "* A note about how we can use Dash and Plotly together to create interactive web apps that *can* get updated automatically\n",
    "* Discussion of how this Python-based approach will make the charts easier to update automatically\n",
    "* Changing time values from Plotly's default to categorical items so that they won't get blended together"
   ]
  },
  {
   "cell_type": "markdown",
   "id": "e7c611a6-398e-486c-bba2-4a9768cf6d72",
   "metadata": {
    "execution": {
     "iopub.execute_input": "2024-05-19T03:30:27.539848Z",
     "iopub.status.busy": "2024-05-19T03:30:27.539848Z",
     "iopub.status.idle": "2024-05-19T03:30:27.542727Z",
     "shell.execute_reply": "2024-05-19T03:30:27.542727Z",
     "shell.execute_reply.started": "2024-05-19T03:30:27.539848Z"
    }
   },
   "source": [
    "## Line Charts"
   ]
  },
  {
   "cell_type": "code",
   "execution_count": null,
   "id": "9e962840-9166-4685-b39d-2ff8a56fdae9",
   "metadata": {},
   "outputs": [],
   "source": []
  }
 ],
 "metadata": {
  "kernelspec": {
   "display_name": "Python 3 (ipykernel)",
   "language": "python",
   "name": "python3"
  },
  "language_info": {
   "codemirror_mode": {
    "name": "ipython",
    "version": 3
   },
   "file_extension": ".py",
   "mimetype": "text/x-python",
   "name": "python",
   "nbconvert_exporter": "python",
   "pygments_lexer": "ipython3",
   "version": "3.12.2"
  }
 },
 "nbformat": 4,
 "nbformat_minor": 5
}
