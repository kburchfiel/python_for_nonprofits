{
 "cells": [
  {
   "cell_type": "markdown",
   "metadata": {},
   "source": [
    "# Python for Nonprofits Part 1: Sharing Database Data Via Google Sheets\n",
    "\n",
    "By Kenneth Burchfiel\n",
    "\n",
    "Released under the MIT license\n",
    "\n",
    "(Note: This project was based on my [Google Sheets Database Connections](https://github.com/kburchfiel/google_sheets_database_connections) Python project.)\n",
    "\n",
    "I also created a video walkthrough of this project that shows how to complete the Google Cloud prerequisites described below. You can find that video [on my YouTube channel.](https://www.youtube.com/watch?v=9vW_c_1ngxQ)"
   ]
  },
  {
   "cell_type": "markdown",
   "metadata": {},
   "source": [
    "# Introduction\n",
    "\n",
    "This project demonstrates how to use Python to read data from a database, then export that data to a Google Sheets document. This approach can be a great way to make the contents of a database accessible to individuals who don't have a background in SQL.\n",
    "\n",
    "If you need to update this Google Sheets document with the latest copy of your data on a regular basis, you can export this script to a Python file, then have your operating system run that task each day, hour, etc. using a tool like cron or Task Scheduler. (If you're on Windows, you can use the run_sharing_database_data_py.bat as a starting point for a .bat file that you could feed into Task Scheduler to automatically run this script; you'd just need to replace the file path shown in the first line with your own path.)\n",
    "\n",
    "This project will import an entire table from a local SQLite database, then export an unmodified copy of that table to Google Sheets. However, in future Python for Nonprofits sections, I plan to demonstrate how Python's pandas library can be used to reformat and analyze data."
   ]
  },
  {
   "cell_type": "markdown",
   "metadata": {},
   "source": [
    "# Prerequisites:\n",
    "\n",
    "Before you can apply this code to your own projects (or get it to run locally on your own computer), you'll need to perform some setup tasks.\n",
    "\n",
    "## Step 1:\n",
    "Open a Google Cloud Platform project. I used the Google Cloud Console to accomplish this step. For instructions, go to https://cloud.google.com/resource-manager/docs/creating-managing-projects#console. \n",
    "\n",
    "NOTE: You may incur expenses when using the Google Cloud platform.\n",
    "\n",
    "## Step 2:\n",
    "Enable the Google Sheets API for your project. To do so, enter 'Sheets API' within the search box near the top of the Google Cloud Platform window. Click on the 'Google Sheets API' result and then select the blue 'Enable' button. \n",
    "\n",
    "## Step 3:\n",
    "Create a Google service account. You can do so by following the steps shown in Google's [Create service accounts](https://cloud.google.com/iam/docs/service-accounts-create#iam-service-accounts-create-console) documentation page. (Although this page instructs you to \"enable the IAM API,\" I didn't need to do so in order for the following steps to work, but it's possible that this API had been enabled beforehand for my Cloud Console project.)\n",
    "\n",
    "## Step 4:\n",
    "Create a key in JSON format for your new service account, then download it to your computer (as a .json file) and store it in a safe location. See https://cloud.google.com/iam/docs/creating-managing-service-account-keys \n",
    "\n",
    "## Step 5:\n",
    "Grant this service account Editor access to the Google Sheet to which you will need to connect. You can grant it access by clicking the 'Share' button within the presentation and then entering the service account's email address within the box that appears. This email address can be found within the 'Service account details' page of your service account within the Google Cloud platform.\n",
    "\n",
    "## Step 6: \n",
    "To get this notebook to run on your own computer, update the 'service_key_path' variable with the path to your own service account key, then update wb_id and ws_name with your own Google Sheets workbook."
   ]
  },
  {
   "cell_type": "markdown",
   "metadata": {},
   "source": [
    "# Code:"
   ]
  },
  {
   "cell_type": "code",
   "execution_count": null,
   "metadata": {},
   "outputs": [],
   "source": [
    "print(\"Starting program.\")\n",
    "import time\n",
    "start_time = time.time() # Allows the program's runtime to be measured\n",
    "import pandas as pd\n",
    "import sqlalchemy\n",
    "import gspread\n",
    "from gspread_dataframe import set_with_dataframe"
   ]
  },
  {
   "cell_type": "markdown",
   "metadata": {},
   "source": [
    "## Connecting to our database:\n",
    "\n",
    "This local SQLite database was created using the database_generator.ipnyb code found in supplemental/db_generator. The steps for connecting to an online database are quite similar; for guidance on this process, visit the [app_functions_and_variables.py](https://github.com/kburchfiel/dash_school_dashboard/blob/main/dsd/app_functions_and_variables.py) file within my [Dash School Dashboard](https://github.com/kburchfiel/dash_school_dashboard) project."
   ]
  },
  {
   "cell_type": "code",
   "execution_count": null,
   "metadata": {},
   "outputs": [],
   "source": [
    "pfn_db_engine = sqlalchemy.create_engine(\n",
    "'sqlite:///'+'../data/network_database.db')\n",
    "# Based on:\n",
    "#  https://docs.sqlalchemy.org/en/13/dialects/sqlite.html#connect-strings\n",
    "\n",
    "pfn_db_engine"
   ]
  },
  {
   "cell_type": "markdown",
   "metadata": {},
   "source": [
    "The following line shows the tables present in this database:"
   ]
  },
  {
   "cell_type": "code",
   "execution_count": null,
   "metadata": {},
   "outputs": [],
   "source": [
    "pd.read_sql(\"Select * from sqlite_schema\", con = pfn_db_engine)"
   ]
  },
  {
   "cell_type": "code",
   "execution_count": null,
   "metadata": {},
   "outputs": [],
   "source": [
    "df_curr_enrollment = pd.read_sql(\"Select * from curr_enrollment\", \n",
    "con = pfn_db_engine)\n",
    "df_curr_enrollment"
   ]
  },
  {
   "cell_type": "markdown",
   "metadata": {},
   "source": [
    "## Importing our Google Cloud Project service key:\n",
    "\n",
    "**Note: This project stores the service key in the same folder as this notebook so that you can see what it looks like; however, for real-world applications, I highly recommend storing the key in an alternate location in order to keep it more secure.**"
   ]
  },
  {
   "cell_type": "code",
   "execution_count": null,
   "metadata": {},
   "outputs": [],
   "source": [
    "service_key_path = 'db-to-gsheets-demo-0a2a95a56f00.json' # Make\n",
    "# sure to replace this path with your own service key's path; otherwise,\n",
    "# this code won't work. The path can be either full or relative.\n",
    "\n",
    "# Note: The service account to which this key belonged \n",
    "# *and* its corresponding project have been deleted,\n",
    "# so even though I've left the original key file in this project folder,\n",
    "# that file will no longer allow you access to the Google Sheets workbook\n",
    "# shown below.\n",
    "\n",
    "gc = gspread.service_account(service_key_path) \n",
    "    # Based on https://docs.gspread.org/en/latest/oauth2.html . The \n",
    "    # 'For Bots: Using Service Account' section of this page offers a helpful\n",
    "    # guide for creating and utilizing Google Cloud Console service accounts.\n",
    "# This is the path to my downloaded Google Service Account key, which is \n",
    "# necessary for connecting to Google Sheets documents from your computer."
   ]
  },
  {
   "cell_type": "code",
   "execution_count": null,
   "metadata": {},
   "outputs": [],
   "source": [
    "wb_id = '1LcB3bqPJ-CPUNPeR-Ohdd5bI6jjV6enh5Gd338Dqqcs' # As with your service\n",
    "# key path, make sure to replace this workbook ID with your own workbook's ID.\n",
    "\n",
    "# This ID was taken from the Google Sheets workbook's full URL:\n",
    "# https://docs.google.com/spreadsheets/d/1LcB3bqPJ-CPUNPeR-Ohdd5bI6jjV6enh5Gd338Dqqcs/edit#gid=0\n",
    "\n",
    "ws_name = 'Current Enrollment' # The name of the worksheet itself. One workbook\n",
    "# can have multiple worksheets. You'll want to either rename this workbook\n",
    "# to your own worksheet's name or create a worksheet named 'Current Enrollment'\n",
    "# within your workbook.\n",
    "\n",
    "wb = gc.open_by_key(wb_id)\n",
    "ws = wb.worksheet(ws_name)\n",
    "ws.clear() # Clearing the spreadsheet helps ensure that no cells from the \n",
    "# older copy will remain after a new copy gets uploaded.\n",
    "set_with_dataframe(ws, df_curr_enrollment) # This code uploads df_curr_enrollment\n",
    "# to the worksheet specified by ws. If this code doesn't work for you, make\n",
    "# sure that you have completed all of the prerequisites listed earlier \n",
    "# in this notebook."
   ]
  },
  {
   "cell_type": "code",
   "execution_count": null,
   "metadata": {},
   "outputs": [],
   "source": [
    "end_time = time.time()\n",
    "run_time = end_time - start_time\n",
    "print(f\"Finished running script in {round(run_time, 3)} seconds.\")"
   ]
  }
 ],
 "metadata": {
  "kernelspec": {
   "display_name": "ga15pyd",
   "language": "python",
   "name": "python3"
  },
  "language_info": {
   "codemirror_mode": {
    "name": "ipython",
    "version": 3
   },
   "file_extension": ".py",
   "mimetype": "text/x-python",
   "name": "python",
   "nbconvert_exporter": "python",
   "pygments_lexer": "ipython3",
   "version": "3.10.9"
  },
  "orig_nbformat": 4
 },
 "nbformat": 4,
 "nbformat_minor": 2
}
